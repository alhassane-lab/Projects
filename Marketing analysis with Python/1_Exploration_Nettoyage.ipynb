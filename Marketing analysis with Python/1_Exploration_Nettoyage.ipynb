{
 "cells": [
  {
   "cell_type": "markdown",
   "id": "ec5bf699-6673-4099-b439-af9e87665db1",
   "metadata": {
    "tags": []
   },
   "source": [
    "<div style=\"display: flex; justify-content: flex-start\">\n",
    "\n",
    "<img\n",
    "     src=\"Icone_lapage.png\"\n",
    "     alt=\"logo_lapage\"\n",
    "     WIDTH= 250px\n",
    "     padding= 7px>\n",
    "\n",
    "<h1  style=\"margin: auto; \n",
    "            text-align: center; \n",
    "            font-family:Helvetica, Arial, verdana, sans-serif\"\n",
    "    > Exploration et nettoyage des données </h1> </div>"
   ]
  },
  {
   "cell_type": "markdown",
   "id": "29909eb9",
   "metadata": {
    "tags": []
   },
   "source": [
    "<h2  style= \"background-color: #d4bdcf;\n",
    "                 color: white;\n",
    "            text-align: center; \n",
    "            font-family:Helvetica, Arial, verdana, sans-serif\"> Étude réalisée par Alhassane AHMED</h2>\n",
    "\n"
   ]
  },
  {
   "cell_type": "markdown",
   "id": "d1b45d57-5c49-4877-b82c-60dd0cbcbd92",
   "metadata": {},
   "source": [
    "\n",
    "<nav><ul style=\"display: flex;\n",
    "    justify-content: space-between;\n",
    "    background-color: #945f8a;\n",
    "    font-family:Helvetica, Arial, verdana, sans-serif;\n",
    "    font-size:11pt\">\n",
    "    \n",
    "<li style=\"margin: auto;color: RGB(255,255,255);\"> <a style=\"color: RGB(255,255,255)\"; href=\"#C1\"><strong>Introduction</strong> </a> </li>\n",
    "<li style=\"margin: auto;color: RGB(255,255,255);\"> <a style=\"color: RGB(255,255,255)\"; href=\"#C2\"><strong>Utilitaires</strong></a> </li>\n",
    "<li style=\"margin: auto;color: RGB(255,255,255);\"> <a style=\"color: RGB(255,255,255)\"; href=\"#C3\"><strong>Customers</strong></a> </li>\n",
    "<li style=\"margin: auto;color: RGB(255,255,255);\"> <a style=\"color: RGB(255,255,255)\"; href=\"#C4\"><strong>Products</strong></a> </li>\n",
    "<li style=\"margin: auto;color: RGB(255,255,255);\"> <a style=\"color: RGB(255,255,255)\"; href=\"#C5\"><strong>Transactions</strong></a> </li>\n",
    "<li style=\"margin: auto;color: RGB(255,255,255);\"> <a style=\"color: RGB(255,255,255)\"; href=\"#C6\"> <strong>Fusion</strong> </a> </li>\n",
    "<li style=\"margin: auto;color: RGB(255,255,255);\"> <a style=\"color: RGB(255,255,255)\"; href=\"#C7\"><strong>Conclusion</strong></a></li>\n",
    "</ul></nav>"
   ]
  },
  {
   "cell_type": "markdown",
   "id": "b7049c58-70d9-468e-9a38-2e20c225cff0",
   "metadata": {
    "tags": []
   },
   "source": [
    "<h2  style=\"margin: auto; \n",
    "            text-align: center; \n",
    "            font-family:Helvetica, Arial, verdana, sans-serif\"><a name=\"C1\"> Introduction </a> </h2>\n",
    "<br>"
   ]
  },
  {
   "cell_type": "markdown",
   "id": "c1db6bd5-cb87-432a-92b4-66f934b7c06b",
   "metadata": {},
   "source": [
    "Ce projet est une analyse des points forts, des points faibles ainsi que des comportements clients de Lapage.\n",
    "\n",
    "Nous avons trois fichiers à notre disposition, à savoir :\n",
    "- customers qui donne des informations sur les clients\n",
    "- products des informations sur les produits\n",
    "- transactions des opérations de vente.\n",
    "\n",
    "L'objet de cette première partie est d'explorer, nettoyer et préparer les données."
   ]
  },
  {
   "cell_type": "markdown",
   "id": "0e23461c-b0a9-4650-8397-1353919c7230",
   "metadata": {},
   "source": [
    "Plan d'action:\n",
    "\n",
    "1. Préparer les fonctions utiles\n",
    "2. Importer les données\n",
    "3. Explorer et nettoyer les données\n",
    "4. Fusionner les jeux de données"
   ]
  },
  {
   "cell_type": "code",
   "execution_count": 4,
   "id": "ca4fc906-209d-4047-8ee5-49836c9c36be",
   "metadata": {},
   "outputs": [],
   "source": [
    "import numpy as np\n",
    "import pandas as pd\n",
    "import matplotlib.pyplot as plt\n",
    "import datetime as dt\n",
    "import datetime as dt\n",
    "import seaborn as sns\n",
    "import warnings\n",
    "warnings.filterwarnings('ignore')\n",
    "\n",
    "sns.set_style(\"white\")"
   ]
  },
  {
   "cell_type": "markdown",
   "id": "9f3d6096-b4b4-4d9d-9548-29b03b0e6ee9",
   "metadata": {
    "tags": []
   },
   "source": [
    "<h2 style=\"margin: auto; \n",
    "            text-align: center; \n",
    "            font-family:Helvetica, Arial, verdana, sans-serif\"><a name=\"C2\"> Utilitaires </a></h2>"
   ]
  },
  {
   "cell_type": "code",
   "execution_count": 5,
   "id": "801cb188-df77-4563-9d08-cbaee024d355",
   "metadata": {},
   "outputs": [],
   "source": [
    "# On définit une fonction qui check les doublons dans une colonne et nous indique le nombre de doublons contenus dans cette colonne suivi d'un aperçu de ces doulons.\n",
    "def check_duplicates(data, column):\n",
    "    n = len(data.index)\n",
    "    if len(data[column].drop_duplicates()) == n :\n",
    "        print (\"La colonne\", column, \"ne contient pas de doublons\")\n",
    "    else :\n",
    "        if len(column) == 1:\n",
    "            print(\"La clé\", column, \"contient \", len(data[data[column].duplicated()]), \" doublons.\")\n",
    "        else:\n",
    "            print(\"La clé composée des colonnes\", column, \"contient \", len(data[data[column].duplicated()]), \" doublons.\")\n",
    "        return data[data[column].duplicated()]\n",
    "\n",
    "# On définit une fonction qui check les valeurs manquantes et indique le nombre de valeurs manquantes contenues dans cette colonne suivi d'un aperçu de ces valeurs manquantes.\n",
    "def check_nan(data, column):\n",
    "    if len(data[data[column].isnull()]) == 0:\n",
    "        print (\"La colonne\", column, \"ne contient aucune valeur manquante\")\n",
    "    else :\n",
    "        print(\"La colonne\", column, \"contient \", len(data[data[column].isnull()]), \" valeurs manquantes.\")\n",
    "\n",
    "\n",
    "# On définit une fonction qui detecter les outliers\n",
    "outliers=[]\n",
    "def check_outliers(data):\n",
    "    threshold = 2\n",
    "    mean = np.mean(data)\n",
    "    std = np.std(data)\n",
    "    \n",
    "    for i in data:\n",
    "        z_score = (i- mean)/std\n",
    "        if z_score > threshold:\n",
    "            outliers.append(i)\n",
    "    print(\"Le nombre d'outliers détectés  \" + str(len(outliers)))\n",
    "\n",
    "from itertools import chain, combinations\n",
    "def cles_potentielles(df, max_allowed=10):\n",
    "    combi_list = chain.from_iterable( combinations(list(df), x) for x in range(1, len(list(df))+1) )\n",
    "    found = 0\n",
    "    for candidate in combi_list:\n",
    "        tmp = df.drop_duplicates(candidate)\n",
    "        if len(tmp) == len(df):\n",
    "            print( list(candidate) )\n",
    "            found +=1\n",
    "        if found > max_allowed:\n",
    "            print( 'Nombre maximum autorisé atteint.', end=' ')\n",
    "            print( 'Veuillez augmenter cette valeur si vous voulez rechercher davantage de clés primaires candidates.' )\n",
    "            return\n",
    "    if found == 0:\n",
    "        print('''Aucune clé primaire, simple ou composée, n'a pu être trouvée ! Il y a forcément des doublons.''')"
   ]
  },
  {
   "cell_type": "markdown",
   "id": "5bc03a19-05eb-4dbe-b1c8-0d69939cb681",
   "metadata": {
    "tags": []
   },
   "source": [
    "<h2 style=\"margin: auto; \n",
    "            text-align: center; \n",
    "            font-family:Helvetica, Arial, verdana, sans-serif\"><a name=\"C3\"> Customers </a></h2>"
   ]
  },
  {
   "cell_type": "code",
   "execution_count": 6,
   "id": "5673beba-96bd-4caf-8002-862e5f0d4aa3",
   "metadata": {},
   "outputs": [
    {
     "name": "stdout",
     "output_type": "stream",
     "text": [
      "----------------------------------------------------------------------\n",
      "Apérçu des données :\n"
     ]
    },
    {
     "data": {
      "text/html": [
       "<div>\n",
       "<style scoped>\n",
       "    .dataframe tbody tr th:only-of-type {\n",
       "        vertical-align: middle;\n",
       "    }\n",
       "\n",
       "    .dataframe tbody tr th {\n",
       "        vertical-align: top;\n",
       "    }\n",
       "\n",
       "    .dataframe thead th {\n",
       "        text-align: right;\n",
       "    }\n",
       "</style>\n",
       "<table border=\"1\" class=\"dataframe\">\n",
       "  <thead>\n",
       "    <tr style=\"text-align: right;\">\n",
       "      <th></th>\n",
       "      <th>client_id</th>\n",
       "      <th>sex</th>\n",
       "      <th>birth</th>\n",
       "    </tr>\n",
       "  </thead>\n",
       "  <tbody>\n",
       "    <tr>\n",
       "      <th>0</th>\n",
       "      <td>c_4410</td>\n",
       "      <td>f</td>\n",
       "      <td>1967</td>\n",
       "    </tr>\n",
       "    <tr>\n",
       "      <th>1</th>\n",
       "      <td>c_7839</td>\n",
       "      <td>f</td>\n",
       "      <td>1975</td>\n",
       "    </tr>\n",
       "    <tr>\n",
       "      <th>2</th>\n",
       "      <td>c_1699</td>\n",
       "      <td>f</td>\n",
       "      <td>1984</td>\n",
       "    </tr>\n",
       "    <tr>\n",
       "      <th>3</th>\n",
       "      <td>c_5961</td>\n",
       "      <td>f</td>\n",
       "      <td>1962</td>\n",
       "    </tr>\n",
       "    <tr>\n",
       "      <th>4</th>\n",
       "      <td>c_5320</td>\n",
       "      <td>m</td>\n",
       "      <td>1943</td>\n",
       "    </tr>\n",
       "  </tbody>\n",
       "</table>\n",
       "</div>"
      ],
      "text/plain": [
       "  client_id sex  birth\n",
       "0    c_4410   f   1967\n",
       "1    c_7839   f   1975\n",
       "2    c_1699   f   1984\n",
       "3    c_5961   f   1962\n",
       "4    c_5320   m   1943"
      ]
     },
     "metadata": {},
     "output_type": "display_data"
    },
    {
     "name": "stdout",
     "output_type": "stream",
     "text": [
      "---------------------------------------------------------------------- \n",
      "\n",
      "Format des colonnes : \n",
      "\n",
      "client_id    object\n",
      "sex          object\n",
      "birth         int64\n",
      "dtype: object \n",
      "\n",
      "---------------------------------------------------------------------- \n",
      "\n",
      "Informations: \n",
      "\n",
      "<class 'pandas.core.frame.DataFrame'>\n",
      "RangeIndex: 8623 entries, 0 to 8622\n",
      "Data columns (total 3 columns):\n",
      " #   Column     Non-Null Count  Dtype \n",
      "---  ------     --------------  ----- \n",
      " 0   client_id  8623 non-null   object\n",
      " 1   sex        8623 non-null   object\n",
      " 2   birth      8623 non-null   int64 \n",
      "dtypes: int64(1), object(2)\n",
      "memory usage: 202.2+ KB\n",
      "None\n"
     ]
    }
   ],
   "source": [
    "customers = pd.read_csv(\"customers.csv\")\n",
    "print('-'*70)\n",
    "print('Apérçu des données :')\n",
    "display(customers.head())\n",
    "print('-'*70, \"\\n\")\n",
    "print('Format des colonnes :',\"\\n\")\n",
    "print(customers.dtypes, \"\\n\")\n",
    "print('-'*70,\"\\n\")\n",
    "print(\"Informations:\",\"\\n\")\n",
    "print(customers.info())"
   ]
  },
  {
   "cell_type": "markdown",
   "id": "facc719c",
   "metadata": {},
   "source": [
    "\n",
    "<div class=\"alert-info\">\n",
    "    <ul>\n",
    "        <li><strong>Customers</strong> donne des informations sur le profil des clients.</li>\n",
    "      <li>On distingue 3 variables (suposées qualitatives) dans le jeu de données : sex, birth et client_id</li>\n",
    "      <li>Il y a en total 8623 clients enregistrés</li>\n",
    "    </ul>\n",
    "</div>\n",
    "<br>"
   ]
  },
  {
   "cell_type": "code",
   "execution_count": 7,
   "id": "66670060",
   "metadata": {},
   "outputs": [
    {
     "name": "stdout",
     "output_type": "stream",
     "text": [
      "['client_id']\n",
      "['client_id', 'sex']\n",
      "['client_id', 'birth']\n",
      "['client_id', 'sex', 'birth']\n"
     ]
    }
   ],
   "source": [
    "# La clé primaire\n",
    "cles_potentielles(customers)"
   ]
  },
  {
   "cell_type": "code",
   "execution_count": 8,
   "id": "1da53511",
   "metadata": {},
   "outputs": [
    {
     "name": "stdout",
     "output_type": "stream",
     "text": [
      "La colonne client_id ne contient aucune valeur manquante\n",
      "La colonne client_id ne contient pas de doublons\n"
     ]
    }
   ],
   "source": [
    "check_nan(customers, \"client_id\")\n",
    "check_duplicates(customers,\"client_id\")"
   ]
  },
  {
   "cell_type": "markdown",
   "id": "64989098",
   "metadata": {},
   "source": [
    "<div class=\"alert-info\">\n",
    "    <strong>Client_id </strong>répond aux critères d'une clé primaire conforme. Elle semble suivre le format \"c_xxxx\".\n",
    "</div>\n",
    "<br>"
   ]
  },
  {
   "cell_type": "code",
   "execution_count": 9,
   "id": "2a8ff53a",
   "metadata": {},
   "outputs": [
    {
     "data": {
      "text/html": [
       "<div>\n",
       "<style scoped>\n",
       "    .dataframe tbody tr th:only-of-type {\n",
       "        vertical-align: middle;\n",
       "    }\n",
       "\n",
       "    .dataframe tbody tr th {\n",
       "        vertical-align: top;\n",
       "    }\n",
       "\n",
       "    .dataframe thead th {\n",
       "        text-align: right;\n",
       "    }\n",
       "</style>\n",
       "<table border=\"1\" class=\"dataframe\">\n",
       "  <thead>\n",
       "    <tr style=\"text-align: right;\">\n",
       "      <th></th>\n",
       "      <th>client_id</th>\n",
       "      <th>sex</th>\n",
       "      <th>birth</th>\n",
       "    </tr>\n",
       "  </thead>\n",
       "  <tbody>\n",
       "    <tr>\n",
       "      <th>2735</th>\n",
       "      <td>ct_0</td>\n",
       "      <td>f</td>\n",
       "      <td>2001</td>\n",
       "    </tr>\n",
       "    <tr>\n",
       "      <th>8494</th>\n",
       "      <td>ct_1</td>\n",
       "      <td>m</td>\n",
       "      <td>2001</td>\n",
       "    </tr>\n",
       "  </tbody>\n",
       "</table>\n",
       "</div>"
      ],
      "text/plain": [
       "     client_id sex  birth\n",
       "2735      ct_0   f   2001\n",
       "8494      ct_1   m   2001"
      ]
     },
     "execution_count": 9,
     "metadata": {},
     "output_type": "execute_result"
    }
   ],
   "source": [
    "customers[~customers[\"client_id\"].str.startswith(\"c_\")]"
   ]
  },
  {
   "cell_type": "markdown",
   "id": "0bdc2216",
   "metadata": {},
   "source": [
    "<div class=\"alert-warning\">\n",
    "    2 clients sortent du lot : <strong>ct_0 </strong> et <strong>ct_1 </strong>.\n",
    "</div>\n",
    "<br>"
   ]
  },
  {
   "cell_type": "code",
   "execution_count": 10,
   "id": "d97f1cb2-b92c-49eb-802a-bb5f5f81f728",
   "metadata": {},
   "outputs": [
    {
     "data": {
      "image/png": "[encoded data removed]",
      "text/plain": [
       "<Figure size 936x504 with 2 Axes>"
      ]
     },
     "metadata": {},
     "output_type": "display_data"
    }
   ],
   "source": [
    "# La variable sex\n",
    "#sns.histplot(data=customers, x=\"sex\")\n",
    "plt.figure(figsize=(13,7))\n",
    "plt.subplot(121)\n",
    "customers[\"sex\"].value_counts().plot(kind=\"bar\")\n",
    "plt.subplot(122)\n",
    "customers[\"sex\"].value_counts().plot(kind=\"pie\", autopct='%.1f%%', ylabel='', radius=1.4)\n",
    "plt.show()"
   ]
  },
  {
   "cell_type": "markdown",
   "id": "a135802e-a356-4d30-9c00-19624d3ade1f",
   "metadata": {},
   "source": [
    "<div class=\"alert-info\">\n",
    "  <strong> La variable sex </strong> donne des infos sur le sexe des clients. Il y a presque autant de femmes que d'hommes.\n",
    "</div>\n",
    "<br>"
   ]
  },
  {
   "cell_type": "code",
   "execution_count": 11,
   "id": "822e1586-2c8c-408b-9e85-9a86d2e39339",
   "metadata": {},
   "outputs": [
    {
     "data": {
      "image/png": "[encoded data removed]",
      "text/plain": [
       "<Figure size 936x504 with 1 Axes>"
      ]
     },
     "metadata": {},
     "output_type": "display_data"
    },
    {
     "name": "stdout",
     "output_type": "stream",
     "text": [
      "Année de naissance mini: 1929\n",
      "Année de naissance max: 2004\n"
     ]
    }
   ],
   "source": [
    "# La variable birth\n",
    "plt.figure(figsize=(13,7))\n",
    "sns.histplot(customers[\"birth\"])\n",
    "plt.show()\n",
    "print(\"Année de naissance mini:\",customers[\"birth\"].min())\n",
    "print(\"Année de naissance max:\",customers[\"birth\"].max())"
   ]
  },
  {
   "cell_type": "markdown",
   "id": "45ae0383-12b3-46d5-aec2-0e70ca885120",
   "metadata": {},
   "source": [
    "<div class=\"alert-info\">\n",
    "    <ul>\n",
    "        <li><strong> La variable birth </strong> donne des infos sur l'anné de naissance du client.</li>\n",
    "        <li>Il y a en total 76 années de naissance différentes comprises entre <strong> 1929 </strong> et <strong>2004</strong> </li> \n",
    "        <li> Les clients nés en 2004 sont très nombreux </li>\n",
    "            </ul>\n",
    "</div>\n",
    "<br>"
   ]
  },
  {
   "cell_type": "markdown",
   "id": "12a86897",
   "metadata": {},
   "source": [
    "<strong> Nous pouvons déduire l'age des clients à partir de leurs années de naissance</strong>"
   ]
  },
  {
   "cell_type": "code",
   "execution_count": 12,
   "id": "9b5a3af6",
   "metadata": {},
   "outputs": [
    {
     "data": {
      "text/html": [
       "<div>\n",
       "<style scoped>\n",
       "    .dataframe tbody tr th:only-of-type {\n",
       "        vertical-align: middle;\n",
       "    }\n",
       "\n",
       "    .dataframe tbody tr th {\n",
       "        vertical-align: top;\n",
       "    }\n",
       "\n",
       "    .dataframe thead th {\n",
       "        text-align: right;\n",
       "    }\n",
       "</style>\n",
       "<table border=\"1\" class=\"dataframe\">\n",
       "  <thead>\n",
       "    <tr style=\"text-align: right;\">\n",
       "      <th></th>\n",
       "      <th>client_id</th>\n",
       "      <th>sex</th>\n",
       "      <th>birth</th>\n",
       "      <th>age_client</th>\n",
       "    </tr>\n",
       "  </thead>\n",
       "  <tbody>\n",
       "    <tr>\n",
       "      <th>0</th>\n",
       "      <td>c_4410</td>\n",
       "      <td>f</td>\n",
       "      <td>1967</td>\n",
       "      <td>55</td>\n",
       "    </tr>\n",
       "    <tr>\n",
       "      <th>1</th>\n",
       "      <td>c_7839</td>\n",
       "      <td>f</td>\n",
       "      <td>1975</td>\n",
       "      <td>47</td>\n",
       "    </tr>\n",
       "    <tr>\n",
       "      <th>2</th>\n",
       "      <td>c_1699</td>\n",
       "      <td>f</td>\n",
       "      <td>1984</td>\n",
       "      <td>38</td>\n",
       "    </tr>\n",
       "    <tr>\n",
       "      <th>3</th>\n",
       "      <td>c_5961</td>\n",
       "      <td>f</td>\n",
       "      <td>1962</td>\n",
       "      <td>60</td>\n",
       "    </tr>\n",
       "    <tr>\n",
       "      <th>4</th>\n",
       "      <td>c_5320</td>\n",
       "      <td>m</td>\n",
       "      <td>1943</td>\n",
       "      <td>79</td>\n",
       "    </tr>\n",
       "  </tbody>\n",
       "</table>\n",
       "</div>"
      ],
      "text/plain": [
       "  client_id sex  birth  age_client\n",
       "0    c_4410   f   1967          55\n",
       "1    c_7839   f   1975          47\n",
       "2    c_1699   f   1984          38\n",
       "3    c_5961   f   1962          60\n",
       "4    c_5320   m   1943          79"
      ]
     },
     "metadata": {},
     "output_type": "display_data"
    },
    {
     "data": {
      "image/png": "[encoded data removed]",
      "text/plain": [
       "<Figure size 936x504 with 1 Axes>"
      ]
     },
     "metadata": {},
     "output_type": "display_data"
    },
    {
     "name": "stdout",
     "output_type": "stream",
     "text": [
      "Age mini: 18\n",
      "Age max: 93\n"
     ]
    }
   ],
   "source": [
    "# On déduit l'age des clients à partir de la date d'aujourd'hui\n",
    "customers[\"age_client\"] = dt.date.today().year - customers[\"birth\"]\n",
    "display(customers.head())\n",
    "\n",
    "# on plot\n",
    "plt.figure(figsize=(13,7))\n",
    "sns.histplot(customers[\"age_client\"])\n",
    "plt.show()\n",
    "\n",
    "print(\"Age mini:\",customers[\"age_client\"].min())\n",
    "print(\"Age max:\",customers[\"age_client\"].max())"
   ]
  },
  {
   "cell_type": "markdown",
   "id": "2b98183f",
   "metadata": {},
   "source": [
    "<div class=\"alert-info\">\n",
    "    <ul>\n",
    "        <li>L'age des clients est compris entre <strong> 18 </strong> et <strong>93 ans</strong> </li> \n",
    "        <li> L'effectif au niveau des 18ans (age mini) est très élevé. </li>\n",
    "            </ul>\n",
    "</div>\n",
    "<br>"
   ]
  },
  {
   "cell_type": "markdown",
   "id": "3dded4df",
   "metadata": {},
   "source": [
    "<strong> Nous pouvons ensuite assigner à chaque client une catégorie en fonction de son age. </strong>"
   ]
  },
  {
   "cell_type": "code",
   "execution_count": 13,
   "id": "200a828c",
   "metadata": {},
   "outputs": [
    {
     "data": {
      "text/html": [
       "<div>\n",
       "<style scoped>\n",
       "    .dataframe tbody tr th:only-of-type {\n",
       "        vertical-align: middle;\n",
       "    }\n",
       "\n",
       "    .dataframe tbody tr th {\n",
       "        vertical-align: top;\n",
       "    }\n",
       "\n",
       "    .dataframe thead th {\n",
       "        text-align: right;\n",
       "    }\n",
       "</style>\n",
       "<table border=\"1\" class=\"dataframe\">\n",
       "  <thead>\n",
       "    <tr style=\"text-align: right;\">\n",
       "      <th></th>\n",
       "      <th>client_id</th>\n",
       "      <th>sex</th>\n",
       "      <th>birth</th>\n",
       "      <th>age_client</th>\n",
       "      <th>tranche_age</th>\n",
       "    </tr>\n",
       "  </thead>\n",
       "  <tbody>\n",
       "    <tr>\n",
       "      <th>0</th>\n",
       "      <td>c_4410</td>\n",
       "      <td>f</td>\n",
       "      <td>1967</td>\n",
       "      <td>55</td>\n",
       "      <td>46 - 55 ans</td>\n",
       "    </tr>\n",
       "    <tr>\n",
       "      <th>1</th>\n",
       "      <td>c_7839</td>\n",
       "      <td>f</td>\n",
       "      <td>1975</td>\n",
       "      <td>47</td>\n",
       "      <td>46 - 55 ans</td>\n",
       "    </tr>\n",
       "    <tr>\n",
       "      <th>2</th>\n",
       "      <td>c_1699</td>\n",
       "      <td>f</td>\n",
       "      <td>1984</td>\n",
       "      <td>38</td>\n",
       "      <td>36 - 45 ans</td>\n",
       "    </tr>\n",
       "    <tr>\n",
       "      <th>3</th>\n",
       "      <td>c_5961</td>\n",
       "      <td>f</td>\n",
       "      <td>1962</td>\n",
       "      <td>60</td>\n",
       "      <td>56 - 65 ans</td>\n",
       "    </tr>\n",
       "    <tr>\n",
       "      <th>4</th>\n",
       "      <td>c_5320</td>\n",
       "      <td>m</td>\n",
       "      <td>1943</td>\n",
       "      <td>79</td>\n",
       "      <td>76 ans - plus</td>\n",
       "    </tr>\n",
       "  </tbody>\n",
       "</table>\n",
       "</div>"
      ],
      "text/plain": [
       "  client_id sex  birth  age_client    tranche_age\n",
       "0    c_4410   f   1967          55    46 - 55 ans\n",
       "1    c_7839   f   1975          47    46 - 55 ans\n",
       "2    c_1699   f   1984          38    36 - 45 ans\n",
       "3    c_5961   f   1962          60    56 - 65 ans\n",
       "4    c_5320   m   1943          79  76 ans - plus"
      ]
     },
     "metadata": {},
     "output_type": "display_data"
    }
   ],
   "source": [
    "# On détermine des tranches d'age\n",
    "customers[\"tranche_age\"] = pd.cut(customers[\"age_client\"], bins=[15,25,35,45,55,65,75,100], labels = [\"16 - 25 ans\",\"26 - 35 ans\",\"36 - 45 ans\",\"46 - 55 ans\",\"56 - 65 ans\",\"66 - 75 ans\",\"76 ans - plus\"])\n",
    "display(customers.head())"
   ]
  },
  {
   "cell_type": "code",
   "execution_count": 14,
   "id": "321ce382",
   "metadata": {},
   "outputs": [
    {
     "data": {
      "image/png": "[encoded data removed]",
      "text/plain": [
       "<Figure size 936x504 with 1 Axes>"
      ]
     },
     "metadata": {},
     "output_type": "display_data"
    }
   ],
   "source": [
    "# La variable birth\n",
    "plt.figure(figsize=(13,7))\n",
    "sns.histplot(data =customers, x=\"tranche_age\", hue='sex')\n",
    "\n",
    "plt.xticks(rotation=80)\n",
    "plt.show()"
   ]
  },
  {
   "cell_type": "markdown",
   "id": "5205b550",
   "metadata": {},
   "source": [
    "<div class=\"alert-info\">\n",
    "   <ul> \n",
    "       <li><strong> La variable tranche_age </strong> classe les clients dans des catégories en fonction de leur age.</li>\n",
    "       <li> Les hommes de la tranche 56_65 sont plus nombreux que les femmes de la même tranche. </li>\n",
    "       <li> Les femmes sont plus nombreuses sur toutes les autres tranches d'age </li>\n",
    "   </ul>\n",
    "</div>\n",
    "<br>"
   ]
  },
  {
   "cell_type": "markdown",
   "id": "3dc7a6ab-7ab5-4e6d-9de6-3b21405e6aad",
   "metadata": {
    "tags": []
   },
   "source": [
    "<h2  style=\"margin: auto; \n",
    "            text-align: center; \n",
    "            font-family:Helvetica, Arial, verdana, sans-serif\"><a name=\"C4\"> Products </a> </h2>"
   ]
  },
  {
   "cell_type": "code",
   "execution_count": 15,
   "id": "9f001375-2a35-4f67-9ddd-fdd2ff8a2534",
   "metadata": {},
   "outputs": [
    {
     "name": "stdout",
     "output_type": "stream",
     "text": [
      "----------------------------------------------------------------------\n",
      "Apérçu des données :\n"
     ]
    },
    {
     "data": {
      "text/html": [
       "<div>\n",
       "<style scoped>\n",
       "    .dataframe tbody tr th:only-of-type {\n",
       "        vertical-align: middle;\n",
       "    }\n",
       "\n",
       "    .dataframe tbody tr th {\n",
       "        vertical-align: top;\n",
       "    }\n",
       "\n",
       "    .dataframe thead th {\n",
       "        text-align: right;\n",
       "    }\n",
       "</style>\n",
       "<table border=\"1\" class=\"dataframe\">\n",
       "  <thead>\n",
       "    <tr style=\"text-align: right;\">\n",
       "      <th></th>\n",
       "      <th>id_prod</th>\n",
       "      <th>price</th>\n",
       "      <th>categ</th>\n",
       "    </tr>\n",
       "  </thead>\n",
       "  <tbody>\n",
       "    <tr>\n",
       "      <th>0</th>\n",
       "      <td>0_1421</td>\n",
       "      <td>19.99</td>\n",
       "      <td>0</td>\n",
       "    </tr>\n",
       "    <tr>\n",
       "      <th>1</th>\n",
       "      <td>0_1368</td>\n",
       "      <td>5.13</td>\n",
       "      <td>0</td>\n",
       "    </tr>\n",
       "    <tr>\n",
       "      <th>2</th>\n",
       "      <td>0_731</td>\n",
       "      <td>17.99</td>\n",
       "      <td>0</td>\n",
       "    </tr>\n",
       "    <tr>\n",
       "      <th>3</th>\n",
       "      <td>1_587</td>\n",
       "      <td>4.99</td>\n",
       "      <td>1</td>\n",
       "    </tr>\n",
       "    <tr>\n",
       "      <th>4</th>\n",
       "      <td>0_1507</td>\n",
       "      <td>3.99</td>\n",
       "      <td>0</td>\n",
       "    </tr>\n",
       "  </tbody>\n",
       "</table>\n",
       "</div>"
      ],
      "text/plain": [
       "  id_prod  price  categ\n",
       "0  0_1421  19.99      0\n",
       "1  0_1368   5.13      0\n",
       "2   0_731  17.99      0\n",
       "3   1_587   4.99      1\n",
       "4  0_1507   3.99      0"
      ]
     },
     "metadata": {},
     "output_type": "display_data"
    },
    {
     "name": "stdout",
     "output_type": "stream",
     "text": [
      "---------------------------------------------------------------------- \n",
      "\n",
      "Format des colonnes : \n",
      "\n",
      "id_prod     object\n",
      "price      float64\n",
      "categ        int64\n",
      "dtype: object \n",
      "\n",
      "---------------------------------------------------------------------- \n",
      "\n",
      "Informations: \n",
      "\n",
      "<class 'pandas.core.frame.DataFrame'>\n",
      "RangeIndex: 3287 entries, 0 to 3286\n",
      "Data columns (total 3 columns):\n",
      " #   Column   Non-Null Count  Dtype  \n",
      "---  ------   --------------  -----  \n",
      " 0   id_prod  3287 non-null   object \n",
      " 1   price    3287 non-null   float64\n",
      " 2   categ    3287 non-null   int64  \n",
      "dtypes: float64(1), int64(1), object(1)\n",
      "memory usage: 77.2+ KB\n",
      "None\n"
     ]
    }
   ],
   "source": [
    "products = pd.read_csv(\"products.csv\")\n",
    "print('-'*70)\n",
    "print('Apérçu des données :')\n",
    "display(products.head())\n",
    "print('-'*70, \"\\n\")\n",
    "print('Format des colonnes :',\"\\n\")\n",
    "print(products.dtypes, \"\\n\")\n",
    "print('-'*70,\"\\n\")\n",
    "print(\"Informations:\",\"\\n\")\n",
    "print(products.info())"
   ]
  },
  {
   "cell_type": "markdown",
   "id": "9ecb3acd-318b-48ba-b5f2-37d3e4a926c4",
   "metadata": {},
   "source": [
    "<div class=\"alert-info\">\n",
    "    <ul>\n",
    "      <li><strong>Products</strong> donne des informations sur les produits.</li>\n",
    "      <li>On distingue 3 variables (dont une qui est quantitave) dans le jeu de données : price, categ, id_prod</li>\n",
    "      <li>Il y a en total 3287 références de produits dans le jeu de données</li>\n",
    "    </ul>\n",
    "</div>\n",
    "<br>"
   ]
  },
  {
   "cell_type": "code",
   "execution_count": 16,
   "id": "ae5910f9",
   "metadata": {},
   "outputs": [
    {
     "name": "stdout",
     "output_type": "stream",
     "text": [
      "['id_prod']\n",
      "['id_prod', 'price']\n",
      "['id_prod', 'categ']\n",
      "['id_prod', 'price', 'categ']\n"
     ]
    }
   ],
   "source": [
    "# La clé primaire\n",
    "cles_potentielles(products)"
   ]
  },
  {
   "cell_type": "code",
   "execution_count": 17,
   "id": "e10627a8",
   "metadata": {},
   "outputs": [
    {
     "name": "stdout",
     "output_type": "stream",
     "text": [
      "La colonne id_prod ne contient aucune valeur manquante\n",
      "La colonne id_prod ne contient pas de doublons\n"
     ]
    }
   ],
   "source": [
    "check_nan(products, \"id_prod\")\n",
    "check_duplicates(products,\"id_prod\")"
   ]
  },
  {
   "cell_type": "markdown",
   "id": "c6a32856",
   "metadata": {},
   "source": [
    "<div class=\"alert-info\">\n",
    "    <strong>id_prod</strong> répond aux critères d'une clé primaire conforme. Elle semble suivre le format \"categ_xxxx\"\n",
    "</div>\n",
    "<br>"
   ]
  },
  {
   "cell_type": "code",
   "execution_count": 18,
   "id": "f30b4f10",
   "metadata": {},
   "outputs": [
    {
     "data": {
      "image/png": "[encoded data removed]",
      "text/plain": [
       "<Figure size 648x432 with 1 Axes>"
      ]
     },
     "metadata": {},
     "output_type": "display_data"
    }
   ],
   "source": [
    "# La variable categ\n",
    "plt.figure(figsize=(13,7))\n",
    "products['categ'] = pd.Categorical(products['categ']) #On convertit au bon format\n",
    "products[\"categ\"].value_counts().plot(kind=\"pie\", autopct='%1.2f%%', figsize=(9,6))\n",
    "plt.show();"
   ]
  },
  {
   "cell_type": "markdown",
   "id": "99d1b900",
   "metadata": {},
   "source": [
    "<div class=\"alert-info\">\n",
    "    <ul>\n",
    "        <strong> Les produits sont classés selon 3 catégories : </strong>\n",
    "        <li> Plus de 70 % des références sont de la catégorie 0.</li>\n",
    "        <li> 22 % de la catégorie 1.</li>\n",
    "        <li> 7 % de la catégorie 2.</li>\n",
    "    </ul>\n",
    "</div>\n",
    "<br>"
   ]
  },
  {
   "cell_type": "code",
   "execution_count": 19,
   "id": "87dfee0f",
   "metadata": {},
   "outputs": [
    {
     "data": {
      "image/png": "[encoded data removed]",
      "text/plain": [
       "<Figure size 936x504 with 1 Axes>"
      ]
     },
     "metadata": {},
     "output_type": "display_data"
    },
    {
     "data": {
      "text/html": [
       "<div>\n",
       "<style scoped>\n",
       "    .dataframe tbody tr th:only-of-type {\n",
       "        vertical-align: middle;\n",
       "    }\n",
       "\n",
       "    .dataframe tbody tr th {\n",
       "        vertical-align: top;\n",
       "    }\n",
       "\n",
       "    .dataframe thead th {\n",
       "        text-align: right;\n",
       "    }\n",
       "</style>\n",
       "<table border=\"1\" class=\"dataframe\">\n",
       "  <thead>\n",
       "    <tr style=\"text-align: right;\">\n",
       "      <th></th>\n",
       "      <th>count</th>\n",
       "      <th>mean</th>\n",
       "      <th>std</th>\n",
       "      <th>min</th>\n",
       "      <th>25%</th>\n",
       "      <th>50%</th>\n",
       "      <th>75%</th>\n",
       "      <th>max</th>\n",
       "    </tr>\n",
       "  </thead>\n",
       "  <tbody>\n",
       "    <tr>\n",
       "      <th>price</th>\n",
       "      <td>3287.0</td>\n",
       "      <td>21.856641</td>\n",
       "      <td>29.847908</td>\n",
       "      <td>-1.0</td>\n",
       "      <td>6.99</td>\n",
       "      <td>13.06</td>\n",
       "      <td>22.99</td>\n",
       "      <td>300.0</td>\n",
       "    </tr>\n",
       "  </tbody>\n",
       "</table>\n",
       "</div>"
      ],
      "text/plain": [
       "        count       mean        std  min   25%    50%    75%    max\n",
       "price  3287.0  21.856641  29.847908 -1.0  6.99  13.06  22.99  300.0"
      ]
     },
     "metadata": {},
     "output_type": "display_data"
    }
   ],
   "source": [
    "# La variable price\n",
    "\n",
    "plt.figure(figsize=(13,7))\n",
    "sns.histplot(data =products, x=\"price\" );\n",
    "#products[\"price\"].hist(bins=60)\n",
    "\n",
    "plt.axvline(products[\"price\"].mean(), color='r', linewidth=2)\n",
    "plt.axvline(products[\"price\"].median(), color='b', linewidth=2)\n",
    "import matplotlib.lines as mlines\n",
    "plt.legend(handles=[mlines.Line2D([], [], color='red',markersize=15, label=\"Moyenne\"),mlines.Line2D([], [], color='b',markersize=15, label=u\"Médiane\")])\n",
    "\n",
    "plt.show()\n",
    "\n",
    "display(products.describe().T)"
   ]
  },
  {
   "cell_type": "markdown",
   "id": "c8f6566c-bafc-4824-91b1-0a7c438fceb3",
   "metadata": {},
   "source": [
    "<div class=\"alert-info\">\n",
    "    <ul>\n",
    "        <li> Le prix moyen est de 21.86 </li>\n",
    "        <li> 50% des prix sont en dessous de 13.06 avec un prix max de 300. Nous avons donc une distribution très étalée sur la droite avec un écart-type de 29.84 et certainement des outliers.</li>\n",
    "    </ul>\n",
    "</div>\n",
    "<br>"
   ]
  },
  {
   "cell_type": "markdown",
   "id": "0672f0a3",
   "metadata": {},
   "source": [
    "<div class=\"alert-warning\">\n",
    "    Le prix minimum est égale à -1. Le prix ne peut être une valeur négative.\n",
    "</div>\n",
    "<br>"
   ]
  },
  {
   "cell_type": "code",
   "execution_count": 20,
   "id": "586a5009",
   "metadata": {},
   "outputs": [
    {
     "data": {
      "text/html": [
       "<div>\n",
       "<style scoped>\n",
       "    .dataframe tbody tr th:only-of-type {\n",
       "        vertical-align: middle;\n",
       "    }\n",
       "\n",
       "    .dataframe tbody tr th {\n",
       "        vertical-align: top;\n",
       "    }\n",
       "\n",
       "    .dataframe thead th {\n",
       "        text-align: right;\n",
       "    }\n",
       "</style>\n",
       "<table border=\"1\" class=\"dataframe\">\n",
       "  <thead>\n",
       "    <tr style=\"text-align: right;\">\n",
       "      <th></th>\n",
       "      <th>id_prod</th>\n",
       "      <th>price</th>\n",
       "      <th>categ</th>\n",
       "    </tr>\n",
       "  </thead>\n",
       "  <tbody>\n",
       "    <tr>\n",
       "      <th>731</th>\n",
       "      <td>T_0</td>\n",
       "      <td>-1.0</td>\n",
       "      <td>0</td>\n",
       "    </tr>\n",
       "  </tbody>\n",
       "</table>\n",
       "</div>"
      ],
      "text/plain": [
       "    id_prod  price categ\n",
       "731     T_0   -1.0     0"
      ]
     },
     "execution_count": 20,
     "metadata": {},
     "output_type": "execute_result"
    }
   ],
   "source": [
    "# On vérifie les valeurs négatives sur la variable price\n",
    "products[products[\"price\"]<0]"
   ]
  },
  {
   "cell_type": "markdown",
   "id": "8de7233e",
   "metadata": {},
   "source": [
    "Le produit T_0 est la seule valeur négative sur price. Étant donné que le prix d'un produit ne peut être négatif, on peut conclure que le produit T_0 est une valeur fausse. "
   ]
  },
  {
   "cell_type": "code",
   "execution_count": 21,
   "id": "08388620-6ff1-44bd-8fa0-6fa88cf8d7dd",
   "metadata": {},
   "outputs": [
    {
     "name": "stdout",
     "output_type": "stream",
     "text": [
      "---------------------------------------------------------------------------------------------------- \n",
      "\n"
     ]
    },
    {
     "data": {
      "image/png": "[encoded data removed]",
      "text/plain": [
       "<Figure size 648x288 with 1 Axes>"
      ]
     },
     "metadata": {},
     "output_type": "display_data"
    },
    {
     "name": "stdout",
     "output_type": "stream",
     "text": [
      "---------------------------------------------------------------------------------------------------- \n",
      "\n"
     ]
    },
    {
     "data": {
      "image/png": "[encoded data removed]",
      "text/plain": [
       "<Figure size 648x432 with 1 Axes>"
      ]
     },
     "metadata": {},
     "output_type": "display_data"
    },
    {
     "name": "stdout",
     "output_type": "stream",
     "text": [
      "---------------------------------------------------------------------------------------------------- \n",
      "\n",
      "Apérçu des données :\n"
     ]
    },
    {
     "data": {
      "text/html": [
       "<div>\n",
       "<style scoped>\n",
       "    .dataframe tbody tr th:only-of-type {\n",
       "        vertical-align: middle;\n",
       "    }\n",
       "\n",
       "    .dataframe tbody tr th {\n",
       "        vertical-align: top;\n",
       "    }\n",
       "\n",
       "    .dataframe thead th {\n",
       "        text-align: right;\n",
       "    }\n",
       "</style>\n",
       "<table border=\"1\" class=\"dataframe\">\n",
       "  <thead>\n",
       "    <tr style=\"text-align: right;\">\n",
       "      <th></th>\n",
       "      <th>id_prod</th>\n",
       "      <th>price</th>\n",
       "      <th>categ</th>\n",
       "      <th>zscore</th>\n",
       "    </tr>\n",
       "  </thead>\n",
       "  <tbody>\n",
       "    <tr>\n",
       "      <th>10</th>\n",
       "      <td>2_228</td>\n",
       "      <td>225.17</td>\n",
       "      <td>2</td>\n",
       "      <td>6.811645</td>\n",
       "    </tr>\n",
       "    <tr>\n",
       "      <th>64</th>\n",
       "      <td>2_89</td>\n",
       "      <td>107.99</td>\n",
       "      <td>2</td>\n",
       "      <td>2.885742</td>\n",
       "    </tr>\n",
       "    <tr>\n",
       "      <th>73</th>\n",
       "      <td>2_225</td>\n",
       "      <td>157.99</td>\n",
       "      <td>2</td>\n",
       "      <td>4.560901</td>\n",
       "    </tr>\n",
       "    <tr>\n",
       "      <th>79</th>\n",
       "      <td>2_187</td>\n",
       "      <td>157.99</td>\n",
       "      <td>2</td>\n",
       "      <td>4.560901</td>\n",
       "    </tr>\n",
       "    <tr>\n",
       "      <th>95</th>\n",
       "      <td>2_128</td>\n",
       "      <td>201.74</td>\n",
       "      <td>2</td>\n",
       "      <td>6.026666</td>\n",
       "    </tr>\n",
       "  </tbody>\n",
       "</table>\n",
       "</div>"
      ],
      "text/plain": [
       "   id_prod   price categ    zscore\n",
       "10   2_228  225.17     2  6.811645\n",
       "64    2_89  107.99     2  2.885742\n",
       "73   2_225  157.99     2  4.560901\n",
       "79   2_187  157.99     2  4.560901\n",
       "95   2_128  201.74     2  6.026666"
      ]
     },
     "metadata": {},
     "output_type": "display_data"
    },
    {
     "name": "stdout",
     "output_type": "stream",
     "text": [
      "Nombre d'outliers détectés : 157\n"
     ]
    }
   ],
   "source": [
    "# On analyse les outliers sur la variable price.\n",
    "print('-'*100, \"\\n\")\n",
    "plt.figure(figsize=(9,4))\n",
    "palette = ['g','b','r']\n",
    "meanprops={ \"marker\" : \"s\", \"markerfacecolor\" : \"w\"}\n",
    "sns.boxplot(data=products, y='categ', x='price', orient='h', showmeans=True, palette=palette, meanprops=meanprops)\n",
    "plt.title('Distribution des prix par catégorie de livres');\n",
    "plt.show()\n",
    "outliers = products.copy()\n",
    "outliers[\"zscore\"] = (outliers[\"price\"] - outliers[\"price\"].mean())/outliers[\"price\"].std()\n",
    "the_ok = outliers[(outliers[\"zscore\"] <= 2) & (outliers[\"zscore\"] >= -2)]\n",
    "the_outliers = outliers[outliers[\"zscore\"].abs() >2];\n",
    "print('-'*100, \"\\n\")\n",
    "plt.figure(figsize=(9,6))\n",
    "sns.scatterplot(x=the_ok[\"price\"].index, y=the_ok[\"price\"].values,)\n",
    "sns.scatterplot(x=the_outliers[\"price\"].index, y=the_outliers[\"price\"].values)\n",
    "plt.title('Représentation graphique des outliers ');\n",
    "plt.show()\n",
    "print('-'*100, \"\\n\")\n",
    "print('Apérçu des données :')\n",
    "display(the_outliers.head())\n",
    "print(\"Nombre d'outliers détectés :\", len(the_outliers))\n"
   ]
  },
  {
   "cell_type": "markdown",
   "id": "4512bec1",
   "metadata": {
    "tags": []
   },
   "source": [
    "<h2 style=\"margin: auto; \n",
    "            text-align: center; \n",
    "            font-family:Helvetica, Arial, verdana, sans-serif\"\n",
    "    ><a name=\"C5\"> Transactions </a></h2>"
   ]
  },
  {
   "cell_type": "code",
   "execution_count": 22,
   "id": "0a13fded-6741-49fe-82e1-393ece2ac8c2",
   "metadata": {},
   "outputs": [
    {
     "name": "stdout",
     "output_type": "stream",
     "text": [
      "----------------------------------------------------------------------\n",
      "Apérçu des données :\n"
     ]
    },
    {
     "data": {
      "text/html": [
       "<div>\n",
       "<style scoped>\n",
       "    .dataframe tbody tr th:only-of-type {\n",
       "        vertical-align: middle;\n",
       "    }\n",
       "\n",
       "    .dataframe tbody tr th {\n",
       "        vertical-align: top;\n",
       "    }\n",
       "\n",
       "    .dataframe thead th {\n",
       "        text-align: right;\n",
       "    }\n",
       "</style>\n",
       "<table border=\"1\" class=\"dataframe\">\n",
       "  <thead>\n",
       "    <tr style=\"text-align: right;\">\n",
       "      <th></th>\n",
       "      <th>id_prod</th>\n",
       "      <th>date</th>\n",
       "      <th>session_id</th>\n",
       "      <th>client_id</th>\n",
       "    </tr>\n",
       "  </thead>\n",
       "  <tbody>\n",
       "    <tr>\n",
       "      <th>0</th>\n",
       "      <td>0_1518</td>\n",
       "      <td>2022-05-20 13:21:29.043970</td>\n",
       "      <td>s_211425</td>\n",
       "      <td>c_103</td>\n",
       "    </tr>\n",
       "    <tr>\n",
       "      <th>1</th>\n",
       "      <td>1_251</td>\n",
       "      <td>2022-02-02 07:55:19.149409</td>\n",
       "      <td>s_158752</td>\n",
       "      <td>c_8534</td>\n",
       "    </tr>\n",
       "    <tr>\n",
       "      <th>2</th>\n",
       "      <td>0_1277</td>\n",
       "      <td>2022-06-18 15:44:33.155329</td>\n",
       "      <td>s_225667</td>\n",
       "      <td>c_6714</td>\n",
       "    </tr>\n",
       "    <tr>\n",
       "      <th>3</th>\n",
       "      <td>2_209</td>\n",
       "      <td>2021-06-24 04:19:29.835891</td>\n",
       "      <td>s_52962</td>\n",
       "      <td>c_6941</td>\n",
       "    </tr>\n",
       "    <tr>\n",
       "      <th>4</th>\n",
       "      <td>0_1509</td>\n",
       "      <td>2023-01-11 08:22:08.194479</td>\n",
       "      <td>s_325227</td>\n",
       "      <td>c_4232</td>\n",
       "    </tr>\n",
       "  </tbody>\n",
       "</table>\n",
       "</div>"
      ],
      "text/plain": [
       "  id_prod                        date session_id client_id\n",
       "0  0_1518  2022-05-20 13:21:29.043970   s_211425     c_103\n",
       "1   1_251  2022-02-02 07:55:19.149409   s_158752    c_8534\n",
       "2  0_1277  2022-06-18 15:44:33.155329   s_225667    c_6714\n",
       "3   2_209  2021-06-24 04:19:29.835891    s_52962    c_6941\n",
       "4  0_1509  2023-01-11 08:22:08.194479   s_325227    c_4232"
      ]
     },
     "metadata": {},
     "output_type": "display_data"
    },
    {
     "name": "stdout",
     "output_type": "stream",
     "text": [
      "---------------------------------------------------------------------- \n",
      "\n",
      "Format des colonnes : \n",
      "\n",
      "id_prod       object\n",
      "date          object\n",
      "session_id    object\n",
      "client_id     object\n",
      "dtype: object \n",
      "\n",
      "---------------------------------------------------------------------- \n",
      "\n",
      "Informations: \n",
      "\n",
      "<class 'pandas.core.frame.DataFrame'>\n",
      "RangeIndex: 679532 entries, 0 to 679531\n",
      "Data columns (total 4 columns):\n",
      " #   Column      Non-Null Count   Dtype \n",
      "---  ------      --------------   ----- \n",
      " 0   id_prod     679532 non-null  object\n",
      " 1   date        679532 non-null  object\n",
      " 2   session_id  679532 non-null  object\n",
      " 3   client_id   679532 non-null  object\n",
      "dtypes: object(4)\n",
      "memory usage: 20.7+ MB\n",
      "None\n"
     ]
    }
   ],
   "source": [
    "transactions = pd.read_csv(\"transactions.csv\")\n",
    "print('-'*70)\n",
    "print('Apérçu des données :')\n",
    "display(transactions.head())\n",
    "print('-'*70, \"\\n\")\n",
    "print('Format des colonnes :',\"\\n\")\n",
    "print(transactions.dtypes, \"\\n\")\n",
    "print('-'*70,\"\\n\")\n",
    "print(\"Informations:\",\"\\n\")\n",
    "print(transactions.info())\n"
   ]
  },
  {
   "cell_type": "markdown",
   "id": "2880a9e3",
   "metadata": {},
   "source": [
    "\n",
    "<div class=\"alert-info\">\n",
    "    <ul>\n",
    "        <li><strong>Transactions</strong> donne des informations sur des opérations de vente. </li>\n",
    "        <li> Il y a 4 variables dans le jeu de données.</li> \n",
    "        <li> Chaque ligne représente une opération de vente à une date donnée</li>\n",
    "        <li> Il y a en total 679532 transactions enregistrés</li>\n",
    "        <li> Il n'y a aucune valeur manquante dans le dataframe</li>..\n",
    "    </ul>\n",
    "</div>\n",
    "<br>"
   ]
  },
  {
   "cell_type": "code",
   "execution_count": 23,
   "id": "1ab4cba3",
   "metadata": {},
   "outputs": [
    {
     "name": "stdout",
     "output_type": "stream",
     "text": [
      "Aucune clé primaire, simple ou composée, n'a pu être trouvée ! Il y a forcément des doublons.\n"
     ]
    }
   ],
   "source": [
    "# La clé primaire\n",
    "cles_potentielles(transactions)"
   ]
  },
  {
   "cell_type": "code",
   "execution_count": 24,
   "id": "da355d13",
   "metadata": {},
   "outputs": [
    {
     "data": {
      "text/html": [
       "<div>\n",
       "<style scoped>\n",
       "    .dataframe tbody tr th:only-of-type {\n",
       "        vertical-align: middle;\n",
       "    }\n",
       "\n",
       "    .dataframe tbody tr th {\n",
       "        vertical-align: top;\n",
       "    }\n",
       "\n",
       "    .dataframe thead th {\n",
       "        text-align: right;\n",
       "    }\n",
       "</style>\n",
       "<table border=\"1\" class=\"dataframe\">\n",
       "  <thead>\n",
       "    <tr style=\"text-align: right;\">\n",
       "      <th></th>\n",
       "      <th>id_prod</th>\n",
       "      <th>date</th>\n",
       "      <th>session_id</th>\n",
       "      <th>client_id</th>\n",
       "    </tr>\n",
       "  </thead>\n",
       "  <tbody>\n",
       "    <tr>\n",
       "      <th>27778</th>\n",
       "      <td>T_0</td>\n",
       "      <td>test_2021-03-01 02:30:02.237437</td>\n",
       "      <td>s_0</td>\n",
       "      <td>ct_1</td>\n",
       "    </tr>\n",
       "    <tr>\n",
       "      <th>52424</th>\n",
       "      <td>T_0</td>\n",
       "      <td>test_2021-03-01 02:30:02.237419</td>\n",
       "      <td>s_0</td>\n",
       "      <td>ct_0</td>\n",
       "    </tr>\n",
       "    <tr>\n",
       "      <th>96687</th>\n",
       "      <td>T_0</td>\n",
       "      <td>test_2021-03-01 02:30:02.237412</td>\n",
       "      <td>s_0</td>\n",
       "      <td>ct_1</td>\n",
       "    </tr>\n",
       "    <tr>\n",
       "      <th>130188</th>\n",
       "      <td>T_0</td>\n",
       "      <td>test_2021-03-01 02:30:02.237419</td>\n",
       "      <td>s_0</td>\n",
       "      <td>ct_0</td>\n",
       "    </tr>\n",
       "    <tr>\n",
       "      <th>139339</th>\n",
       "      <td>T_0</td>\n",
       "      <td>test_2021-03-01 02:30:02.237443</td>\n",
       "      <td>s_0</td>\n",
       "      <td>ct_1</td>\n",
       "    </tr>\n",
       "    <tr>\n",
       "      <th>...</th>\n",
       "      <td>...</td>\n",
       "      <td>...</td>\n",
       "      <td>...</td>\n",
       "      <td>...</td>\n",
       "    </tr>\n",
       "    <tr>\n",
       "      <th>653098</th>\n",
       "      <td>T_0</td>\n",
       "      <td>test_2021-03-01 02:30:02.237432</td>\n",
       "      <td>s_0</td>\n",
       "      <td>ct_0</td>\n",
       "    </tr>\n",
       "    <tr>\n",
       "      <th>657830</th>\n",
       "      <td>T_0</td>\n",
       "      <td>test_2021-03-01 02:30:02.237417</td>\n",
       "      <td>s_0</td>\n",
       "      <td>ct_0</td>\n",
       "    </tr>\n",
       "    <tr>\n",
       "      <th>662081</th>\n",
       "      <td>T_0</td>\n",
       "      <td>test_2021-03-01 02:30:02.237427</td>\n",
       "      <td>s_0</td>\n",
       "      <td>ct_1</td>\n",
       "    </tr>\n",
       "    <tr>\n",
       "      <th>671647</th>\n",
       "      <td>T_0</td>\n",
       "      <td>test_2021-03-01 02:30:02.237424</td>\n",
       "      <td>s_0</td>\n",
       "      <td>ct_1</td>\n",
       "    </tr>\n",
       "    <tr>\n",
       "      <th>679180</th>\n",
       "      <td>T_0</td>\n",
       "      <td>test_2021-03-01 02:30:02.237425</td>\n",
       "      <td>s_0</td>\n",
       "      <td>ct_1</td>\n",
       "    </tr>\n",
       "  </tbody>\n",
       "</table>\n",
       "<p>126 rows × 4 columns</p>\n",
       "</div>"
      ],
      "text/plain": [
       "       id_prod                             date session_id client_id\n",
       "27778      T_0  test_2021-03-01 02:30:02.237437        s_0      ct_1\n",
       "52424      T_0  test_2021-03-01 02:30:02.237419        s_0      ct_0\n",
       "96687      T_0  test_2021-03-01 02:30:02.237412        s_0      ct_1\n",
       "130188     T_0  test_2021-03-01 02:30:02.237419        s_0      ct_0\n",
       "139339     T_0  test_2021-03-01 02:30:02.237443        s_0      ct_1\n",
       "...        ...                              ...        ...       ...\n",
       "653098     T_0  test_2021-03-01 02:30:02.237432        s_0      ct_0\n",
       "657830     T_0  test_2021-03-01 02:30:02.237417        s_0      ct_0\n",
       "662081     T_0  test_2021-03-01 02:30:02.237427        s_0      ct_1\n",
       "671647     T_0  test_2021-03-01 02:30:02.237424        s_0      ct_1\n",
       "679180     T_0  test_2021-03-01 02:30:02.237425        s_0      ct_1\n",
       "\n",
       "[126 rows x 4 columns]"
      ]
     },
     "execution_count": 24,
     "metadata": {},
     "output_type": "execute_result"
    }
   ],
   "source": [
    "doublons = transactions[transactions.duplicated()]\n",
    "doublons"
   ]
  },
  {
   "cell_type": "code",
   "execution_count": 25,
   "id": "16a4bf55",
   "metadata": {},
   "outputs": [
    {
     "name": "stdout",
     "output_type": "stream",
     "text": [
      "Les doublons concernent les produits : ['T_0']\n",
      "Les doublons concernent les clients : ['ct_1' 'ct_0']\n",
      "Les doublons concernent les dates : ['test_2021-03-01 02:30:02']\n",
      "Les doublons concernent les sessions : ['s_0']\n"
     ]
    }
   ],
   "source": [
    "print(\"Les doublons concernent les produits :\", doublons[\"id_prod\"].unique())\n",
    "print(\"Les doublons concernent les clients :\", doublons[\"client_id\"].unique())\n",
    "print(\"Les doublons concernent les dates :\", doublons[\"date\"].str.split(\".\", expand=True)[0].unique())\n",
    "print(\"Les doublons concernent les sessions :\", doublons[\"session_id\"].str.split(\".\", expand=True)[0].unique())"
   ]
  },
  {
   "cell_type": "markdown",
   "id": "45d4c5e3",
   "metadata": {},
   "source": [
    "\n",
    "<div class=\"alert-info\">\n",
    "    <ul>\n",
    "       <strong> Les clients ct_1 et ct_0 sont des clients test qui ont effectués des transactions concernant un produit test (T_0) à une date test ('test_2021-03-01 02:30:02') pendant une sessions test (s_0). </strong>\n",
    "    </ul>\n",
    "</div>\n",
    "<br>"
   ]
  },
  {
   "cell_type": "code",
   "execution_count": 26,
   "id": "cfa3e223",
   "metadata": {},
   "outputs": [
    {
     "data": {
      "text/html": [
       "<div>\n",
       "<style scoped>\n",
       "    .dataframe tbody tr th:only-of-type {\n",
       "        vertical-align: middle;\n",
       "    }\n",
       "\n",
       "    .dataframe tbody tr th {\n",
       "        vertical-align: top;\n",
       "    }\n",
       "\n",
       "    .dataframe thead th {\n",
       "        text-align: right;\n",
       "    }\n",
       "</style>\n",
       "<table border=\"1\" class=\"dataframe\">\n",
       "  <thead>\n",
       "    <tr style=\"text-align: right;\">\n",
       "      <th></th>\n",
       "      <th>id_prod</th>\n",
       "      <th>date</th>\n",
       "      <th>session_id</th>\n",
       "      <th>client_id</th>\n",
       "    </tr>\n",
       "  </thead>\n",
       "  <tbody>\n",
       "    <tr>\n",
       "      <th>3019</th>\n",
       "      <td>T_0</td>\n",
       "      <td>test_2021-03-01 02:30:02.237419</td>\n",
       "      <td>s_0</td>\n",
       "      <td>ct_0</td>\n",
       "    </tr>\n",
       "    <tr>\n",
       "      <th>5138</th>\n",
       "      <td>T_0</td>\n",
       "      <td>test_2021-03-01 02:30:02.237425</td>\n",
       "      <td>s_0</td>\n",
       "      <td>ct_0</td>\n",
       "    </tr>\n",
       "    <tr>\n",
       "      <th>9668</th>\n",
       "      <td>T_0</td>\n",
       "      <td>test_2021-03-01 02:30:02.237437</td>\n",
       "      <td>s_0</td>\n",
       "      <td>ct_1</td>\n",
       "    </tr>\n",
       "    <tr>\n",
       "      <th>10728</th>\n",
       "      <td>T_0</td>\n",
       "      <td>test_2021-03-01 02:30:02.237436</td>\n",
       "      <td>s_0</td>\n",
       "      <td>ct_0</td>\n",
       "    </tr>\n",
       "    <tr>\n",
       "      <th>15292</th>\n",
       "      <td>T_0</td>\n",
       "      <td>test_2021-03-01 02:30:02.237430</td>\n",
       "      <td>s_0</td>\n",
       "      <td>ct_0</td>\n",
       "    </tr>\n",
       "  </tbody>\n",
       "</table>\n",
       "</div>"
      ],
      "text/plain": [
       "      id_prod                             date session_id client_id\n",
       "3019      T_0  test_2021-03-01 02:30:02.237419        s_0      ct_0\n",
       "5138      T_0  test_2021-03-01 02:30:02.237425        s_0      ct_0\n",
       "9668      T_0  test_2021-03-01 02:30:02.237437        s_0      ct_1\n",
       "10728     T_0  test_2021-03-01 02:30:02.237436        s_0      ct_0\n",
       "15292     T_0  test_2021-03-01 02:30:02.237430        s_0      ct_0"
      ]
     },
     "metadata": {},
     "output_type": "display_data"
    },
    {
     "name": "stdout",
     "output_type": "stream",
     "text": [
      "il y au total 200 transactions test\n"
     ]
    }
   ],
   "source": [
    "transactions_test = transactions[transactions[\"id_prod\"] ==\"T_0\"]\n",
    "display(transactions_test.head())\n",
    "print(\"il y au total\", len(transactions_test), \"transactions test\")"
   ]
  },
  {
   "cell_type": "code",
   "execution_count": 27,
   "id": "53817714",
   "metadata": {},
   "outputs": [],
   "source": [
    "# On écarte les transactions test\n",
    "transactions = transactions[transactions[\"id_prod\"] !=\"T_0\"]"
   ]
  },
  {
   "cell_type": "code",
   "execution_count": 28,
   "id": "dd0709a8",
   "metadata": {},
   "outputs": [
    {
     "name": "stdout",
     "output_type": "stream",
     "text": [
      "['date']\n",
      "['id_prod', 'date']\n",
      "['date', 'session_id']\n",
      "['date', 'client_id']\n",
      "['id_prod', 'date', 'session_id']\n",
      "['id_prod', 'date', 'client_id']\n",
      "['date', 'session_id', 'client_id']\n",
      "['id_prod', 'date', 'session_id', 'client_id']\n"
     ]
    }
   ],
   "source": [
    "# La clé primaire\n",
    "cles_potentielles(transactions)"
   ]
  },
  {
   "cell_type": "code",
   "execution_count": 29,
   "id": "d613d1fe",
   "metadata": {},
   "outputs": [
    {
     "name": "stdout",
     "output_type": "stream",
     "text": [
      "La colonne date ne contient aucune valeur manquante\n",
      "La colonne date ne contient pas de doublons\n"
     ]
    }
   ],
   "source": [
    "check_nan(transactions, \"date\")\n",
    "check_duplicates(transactions,\"date\")"
   ]
  },
  {
   "cell_type": "markdown",
   "id": "0efb19e6",
   "metadata": {},
   "source": [
    "<div class=\"alert-info\">\n",
    "    <strong>La colonne date</strong> répond aux critères d'une clé primaire conforme.\n",
    "</div>\n",
    "<br>"
   ]
  },
  {
   "cell_type": "code",
   "execution_count": 30,
   "id": "74656be5-c389-4106-b275-b97a16c7d08e",
   "metadata": {},
   "outputs": [],
   "source": [
    "# On separe l'heure de la date\n",
    "transactions['time'] = pd.to_datetime(transactions['date']).dt.time\n",
    "transactions['date']= pd.to_datetime(transactions['date']).dt.date\n",
    "\n",
    "# On convertit la date au format adapté\n",
    "transactions['date'] = pd.to_datetime(transactions['date'])"
   ]
  },
  {
   "cell_type": "code",
   "execution_count": 31,
   "id": "549c5bb6-3a41-4639-ab88-676a1dd109e7",
   "metadata": {},
   "outputs": [],
   "source": [
    "#On extrait le mois et l'année des transactions\n",
    "transactions['periode'] = transactions['date'].dt.to_period(\"m\")\n",
    "transactions['annee'] = pd.to_datetime(transactions['date']).dt.year"
   ]
  },
  {
   "cell_type": "code",
   "execution_count": 32,
   "id": "bdb246e8-56bd-4ab7-95a5-d6842a2cf895",
   "metadata": {},
   "outputs": [
    {
     "name": "stdout",
     "output_type": "stream",
     "text": [
      "----------------------------------------------------------------------\n",
      "Apérçu des données :\n"
     ]
    },
    {
     "data": {
      "text/html": [
       "<div>\n",
       "<style scoped>\n",
       "    .dataframe tbody tr th:only-of-type {\n",
       "        vertical-align: middle;\n",
       "    }\n",
       "\n",
       "    .dataframe tbody tr th {\n",
       "        vertical-align: top;\n",
       "    }\n",
       "\n",
       "    .dataframe thead th {\n",
       "        text-align: right;\n",
       "    }\n",
       "</style>\n",
       "<table border=\"1\" class=\"dataframe\">\n",
       "  <thead>\n",
       "    <tr style=\"text-align: right;\">\n",
       "      <th></th>\n",
       "      <th>id_prod</th>\n",
       "      <th>date</th>\n",
       "      <th>session_id</th>\n",
       "      <th>client_id</th>\n",
       "      <th>time</th>\n",
       "      <th>periode</th>\n",
       "      <th>annee</th>\n",
       "    </tr>\n",
       "  </thead>\n",
       "  <tbody>\n",
       "    <tr>\n",
       "      <th>0</th>\n",
       "      <td>0_1518</td>\n",
       "      <td>2022-05-20</td>\n",
       "      <td>s_211425</td>\n",
       "      <td>c_103</td>\n",
       "      <td>13:21:29.043970</td>\n",
       "      <td>2022-05</td>\n",
       "      <td>2022</td>\n",
       "    </tr>\n",
       "    <tr>\n",
       "      <th>1</th>\n",
       "      <td>1_251</td>\n",
       "      <td>2022-02-02</td>\n",
       "      <td>s_158752</td>\n",
       "      <td>c_8534</td>\n",
       "      <td>07:55:19.149409</td>\n",
       "      <td>2022-02</td>\n",
       "      <td>2022</td>\n",
       "    </tr>\n",
       "    <tr>\n",
       "      <th>2</th>\n",
       "      <td>0_1277</td>\n",
       "      <td>2022-06-18</td>\n",
       "      <td>s_225667</td>\n",
       "      <td>c_6714</td>\n",
       "      <td>15:44:33.155329</td>\n",
       "      <td>2022-06</td>\n",
       "      <td>2022</td>\n",
       "    </tr>\n",
       "    <tr>\n",
       "      <th>3</th>\n",
       "      <td>2_209</td>\n",
       "      <td>2021-06-24</td>\n",
       "      <td>s_52962</td>\n",
       "      <td>c_6941</td>\n",
       "      <td>04:19:29.835891</td>\n",
       "      <td>2021-06</td>\n",
       "      <td>2021</td>\n",
       "    </tr>\n",
       "    <tr>\n",
       "      <th>4</th>\n",
       "      <td>0_1509</td>\n",
       "      <td>2023-01-11</td>\n",
       "      <td>s_325227</td>\n",
       "      <td>c_4232</td>\n",
       "      <td>08:22:08.194479</td>\n",
       "      <td>2023-01</td>\n",
       "      <td>2023</td>\n",
       "    </tr>\n",
       "  </tbody>\n",
       "</table>\n",
       "</div>"
      ],
      "text/plain": [
       "  id_prod       date session_id client_id             time  periode  annee\n",
       "0  0_1518 2022-05-20   s_211425     c_103  13:21:29.043970  2022-05   2022\n",
       "1   1_251 2022-02-02   s_158752    c_8534  07:55:19.149409  2022-02   2022\n",
       "2  0_1277 2022-06-18   s_225667    c_6714  15:44:33.155329  2022-06   2022\n",
       "3   2_209 2021-06-24    s_52962    c_6941  04:19:29.835891  2021-06   2021\n",
       "4  0_1509 2023-01-11   s_325227    c_4232  08:22:08.194479  2023-01   2023"
      ]
     },
     "metadata": {},
     "output_type": "display_data"
    },
    {
     "name": "stdout",
     "output_type": "stream",
     "text": [
      "----------------------------------------------------------------------\n",
      "<class 'pandas.core.frame.DataFrame'>\n",
      "Int64Index: 679332 entries, 0 to 679531\n",
      "Data columns (total 7 columns):\n",
      " #   Column      Non-Null Count   Dtype         \n",
      "---  ------      --------------   -----         \n",
      " 0   id_prod     679332 non-null  object        \n",
      " 1   date        679332 non-null  datetime64[ns]\n",
      " 2   session_id  679332 non-null  object        \n",
      " 3   client_id   679332 non-null  object        \n",
      " 4   time        679332 non-null  object        \n",
      " 5   periode     679332 non-null  period[M]     \n",
      " 6   annee       679332 non-null  int64         \n",
      "dtypes: datetime64[ns](1), int64(1), object(4), period[M](1)\n",
      "memory usage: 41.5+ MB\n"
     ]
    },
    {
     "data": {
      "text/plain": [
       "None"
      ]
     },
     "metadata": {},
     "output_type": "display_data"
    }
   ],
   "source": [
    "print('-'*70)\n",
    "print('Apérçu des données :')\n",
    "display(transactions.head())\n",
    "print('-'*70)\n",
    "display(transactions.info())"
   ]
  },
  {
   "cell_type": "markdown",
   "id": "de91ca8e",
   "metadata": {},
   "source": [
    "<div class=\"alert-info\">\n",
    "    <ul>\n",
    "        <li><strong>Transactions</strong> est une table de liaison qui relie products grâce à la clé étrangère \"id_prod\" et customers grâce à la clé \"client_id\". </li>\n",
    "        <li> Après nettoyage, il ne reste plus que <strong>679332 transactions </strong> dans le fichier.</li>\n",
    "    </ul>\n",
    "</div>\n",
    "<br>"
   ]
  },
  {
   "cell_type": "code",
   "execution_count": 33,
   "id": "d7bb0dcb",
   "metadata": {},
   "outputs": [
    {
     "data": {
      "image/png": "[encoded data removed]",
      "text/plain": [
       "<Figure size 720x432 with 1 Axes>"
      ]
     },
     "metadata": {},
     "output_type": "display_data"
    },
    {
     "data": {
      "image/png": "[encoded data removed]",
      "text/plain": [
       "<Figure size 720x432 with 1 Axes>"
      ]
     },
     "metadata": {},
     "output_type": "display_data"
    },
    {
     "name": "stdout",
     "output_type": "stream",
     "text": [
      "il y a eu 679332 ventes entre 2021-03 et 2023-02\n"
     ]
    }
   ],
   "source": [
    "transactions[\"periode\"].value_counts().reset_index().set_index('index').sort_values(\"index\").plot(kind=\"bar\",  figsize=(10,6))\n",
    "transactions[\"periode\"].value_counts().reset_index().set_index('index').sort_values(\"index\").plot( figsize=(10,6))\n",
    "plt.xlabel(\"Période\")\n",
    "plt.ylabel(\"Nombre de ventes\")\n",
    "plt.show()\n",
    "print(\"il y a eu 679332 ventes entre\", transactions[\"periode\"].min(), \"et\", transactions[\"periode\"].max())"
   ]
  },
  {
   "cell_type": "markdown",
   "id": "47cd0fcd-43e6-449b-ae07-d907846f4037",
   "metadata": {
    "tags": []
   },
   "source": [
    "<h2 style=\"margin: auto; \n",
    "            text-align: center; \n",
    "            font-family:Helvetica, Arial, verdana, sans-serif\"><a name=\"C6\"> Fusion </a></h2>"
   ]
  },
  {
   "cell_type": "code",
   "execution_count": 34,
   "id": "e116e9d6",
   "metadata": {},
   "outputs": [
    {
     "name": "stdout",
     "output_type": "stream",
     "text": [
      "----------------------------------------------------------------------\n",
      "Apérçu des données :\n"
     ]
    },
    {
     "data": {
      "text/html": [
       "<div>\n",
       "<style scoped>\n",
       "    .dataframe tbody tr th:only-of-type {\n",
       "        vertical-align: middle;\n",
       "    }\n",
       "\n",
       "    .dataframe tbody tr th {\n",
       "        vertical-align: top;\n",
       "    }\n",
       "\n",
       "    .dataframe thead th {\n",
       "        text-align: right;\n",
       "    }\n",
       "</style>\n",
       "<table border=\"1\" class=\"dataframe\">\n",
       "  <thead>\n",
       "    <tr style=\"text-align: right;\">\n",
       "      <th></th>\n",
       "      <th>id_prod</th>\n",
       "      <th>date</th>\n",
       "      <th>session_id</th>\n",
       "      <th>client_id</th>\n",
       "      <th>time</th>\n",
       "      <th>periode</th>\n",
       "      <th>annee</th>\n",
       "      <th>sex</th>\n",
       "      <th>birth</th>\n",
       "      <th>age_client</th>\n",
       "      <th>tranche_age</th>\n",
       "      <th>price</th>\n",
       "      <th>categ</th>\n",
       "    </tr>\n",
       "  </thead>\n",
       "  <tbody>\n",
       "    <tr>\n",
       "      <th>0</th>\n",
       "      <td>0_1518</td>\n",
       "      <td>2022-05-20</td>\n",
       "      <td>s_211425</td>\n",
       "      <td>c_103</td>\n",
       "      <td>13:21:29.043970</td>\n",
       "      <td>2022-05</td>\n",
       "      <td>2022</td>\n",
       "      <td>f</td>\n",
       "      <td>1986</td>\n",
       "      <td>36</td>\n",
       "      <td>36 - 45 ans</td>\n",
       "      <td>4.18</td>\n",
       "      <td>0</td>\n",
       "    </tr>\n",
       "    <tr>\n",
       "      <th>1</th>\n",
       "      <td>1_251</td>\n",
       "      <td>2022-02-02</td>\n",
       "      <td>s_158752</td>\n",
       "      <td>c_8534</td>\n",
       "      <td>07:55:19.149409</td>\n",
       "      <td>2022-02</td>\n",
       "      <td>2022</td>\n",
       "      <td>m</td>\n",
       "      <td>1988</td>\n",
       "      <td>34</td>\n",
       "      <td>26 - 35 ans</td>\n",
       "      <td>15.99</td>\n",
       "      <td>1</td>\n",
       "    </tr>\n",
       "    <tr>\n",
       "      <th>2</th>\n",
       "      <td>0_1277</td>\n",
       "      <td>2022-06-18</td>\n",
       "      <td>s_225667</td>\n",
       "      <td>c_6714</td>\n",
       "      <td>15:44:33.155329</td>\n",
       "      <td>2022-06</td>\n",
       "      <td>2022</td>\n",
       "      <td>f</td>\n",
       "      <td>1968</td>\n",
       "      <td>54</td>\n",
       "      <td>46 - 55 ans</td>\n",
       "      <td>7.99</td>\n",
       "      <td>0</td>\n",
       "    </tr>\n",
       "    <tr>\n",
       "      <th>3</th>\n",
       "      <td>2_209</td>\n",
       "      <td>2021-06-24</td>\n",
       "      <td>s_52962</td>\n",
       "      <td>c_6941</td>\n",
       "      <td>04:19:29.835891</td>\n",
       "      <td>2021-06</td>\n",
       "      <td>2021</td>\n",
       "      <td>m</td>\n",
       "      <td>2000</td>\n",
       "      <td>22</td>\n",
       "      <td>16 - 25 ans</td>\n",
       "      <td>69.99</td>\n",
       "      <td>2</td>\n",
       "    </tr>\n",
       "    <tr>\n",
       "      <th>4</th>\n",
       "      <td>0_1509</td>\n",
       "      <td>2023-01-11</td>\n",
       "      <td>s_325227</td>\n",
       "      <td>c_4232</td>\n",
       "      <td>08:22:08.194479</td>\n",
       "      <td>2023-01</td>\n",
       "      <td>2023</td>\n",
       "      <td>m</td>\n",
       "      <td>1980</td>\n",
       "      <td>42</td>\n",
       "      <td>36 - 45 ans</td>\n",
       "      <td>4.99</td>\n",
       "      <td>0</td>\n",
       "    </tr>\n",
       "  </tbody>\n",
       "</table>\n",
       "</div>"
      ],
      "text/plain": [
       "  id_prod       date session_id client_id             time  periode  annee  \\\n",
       "0  0_1518 2022-05-20   s_211425     c_103  13:21:29.043970  2022-05   2022   \n",
       "1   1_251 2022-02-02   s_158752    c_8534  07:55:19.149409  2022-02   2022   \n",
       "2  0_1277 2022-06-18   s_225667    c_6714  15:44:33.155329  2022-06   2022   \n",
       "3   2_209 2021-06-24    s_52962    c_6941  04:19:29.835891  2021-06   2021   \n",
       "4  0_1509 2023-01-11   s_325227    c_4232  08:22:08.194479  2023-01   2023   \n",
       "\n",
       "  sex  birth  age_client  tranche_age  price categ  \n",
       "0   f   1986          36  36 - 45 ans   4.18     0  \n",
       "1   m   1988          34  26 - 35 ans  15.99     1  \n",
       "2   f   1968          54  46 - 55 ans   7.99     0  \n",
       "3   m   2000          22  16 - 25 ans  69.99     2  \n",
       "4   m   1980          42  36 - 45 ans   4.99     0  "
      ]
     },
     "metadata": {},
     "output_type": "display_data"
    },
    {
     "name": "stdout",
     "output_type": "stream",
     "text": [
      "---------------------------------------------------------------------- \n",
      "\n",
      "Format des colonnes : \n",
      "\n",
      "id_prod                object\n",
      "date           datetime64[ns]\n",
      "session_id             object\n",
      "client_id              object\n",
      "time                   object\n",
      "periode             period[M]\n",
      "annee                   int64\n",
      "sex                    object\n",
      "birth                   int64\n",
      "age_client              int64\n",
      "tranche_age          category\n",
      "price                 float64\n",
      "categ                category\n",
      "dtype: object \n",
      "\n",
      "---------------------------------------------------------------------- \n",
      "\n",
      "Informations: \n",
      "\n",
      "<class 'pandas.core.frame.DataFrame'>\n",
      "Int64Index: 679332 entries, 0 to 679331\n",
      "Data columns (total 13 columns):\n",
      " #   Column       Non-Null Count   Dtype         \n",
      "---  ------       --------------   -----         \n",
      " 0   id_prod      679332 non-null  object        \n",
      " 1   date         679332 non-null  datetime64[ns]\n",
      " 2   session_id   679332 non-null  object        \n",
      " 3   client_id    679332 non-null  object        \n",
      " 4   time         679332 non-null  object        \n",
      " 5   periode      679332 non-null  period[M]     \n",
      " 6   annee        679332 non-null  int64         \n",
      " 7   sex          679332 non-null  object        \n",
      " 8   birth        679332 non-null  int64         \n",
      " 9   age_client   679332 non-null  int64         \n",
      " 10  tranche_age  679332 non-null  category      \n",
      " 11  price        679111 non-null  float64       \n",
      " 12  categ        679111 non-null  category      \n",
      "dtypes: category(2), datetime64[ns](1), float64(1), int64(3), object(5), period[M](1)\n",
      "memory usage: 63.5+ MB\n",
      "None\n"
     ]
    }
   ],
   "source": [
    "df = transactions.merge(customers, how='left', on='client_id').merge(products, how='left', on='id_prod')\n",
    "print('-'*70)\n",
    "print('Apérçu des données :')\n",
    "display(df.head())\n",
    "print('-'*70, \"\\n\")\n",
    "print('Format des colonnes :',\"\\n\")\n",
    "print(df.dtypes, \"\\n\")\n",
    "print('-'*70,\"\\n\")\n",
    "print(\"Informations:\",\"\\n\")\n",
    "print(df.info())"
   ]
  },
  {
   "cell_type": "markdown",
   "id": "581a8caf-6dee-411f-b14f-f7c18d2ce26b",
   "metadata": {},
   "source": [
    "On remarque des valeurs manquantes au niveau du prix et de la catégorie."
   ]
  },
  {
   "cell_type": "markdown",
   "id": "d78272f7",
   "metadata": {},
   "source": [
    "<div class=\"alert-warning\">\n",
    "    <strong> Il y a des valeurs manquantes au niveau du prix et de la catégorie.</strong>\n",
    "</div>\n",
    "<br>"
   ]
  },
  {
   "cell_type": "code",
   "execution_count": 35,
   "id": "41f3241b-99ce-4f8e-ba2e-a3f91cde32d2",
   "metadata": {},
   "outputs": [
    {
     "name": "stdout",
     "output_type": "stream",
     "text": [
      "La colonne price contient  221  valeurs manquantes.\n",
      "La colonne categ contient  221  valeurs manquantes.\n"
     ]
    }
   ],
   "source": [
    "check_nan(df, \"price\")\n",
    "check_nan(df, \"categ\")"
   ]
  },
  {
   "cell_type": "code",
   "execution_count": 36,
   "id": "dccdbb0b",
   "metadata": {},
   "outputs": [
    {
     "name": "stdout",
     "output_type": "stream",
     "text": [
      "Les valeurs manquantes concernent les produits suivants : ['0_2245']\n"
     ]
    }
   ],
   "source": [
    "mask_nans = (df['price'].isnull()) | (df['categ'].isnull())\n",
    "print(\"Les valeurs manquantes concernent les produits suivants :\", df[mask_nans][\"id_prod\"].unique())"
   ]
  },
  {
   "cell_type": "code",
   "execution_count": 37,
   "id": "2589cbd6-ed17-43c4-940d-df67cf494aa3",
   "metadata": {},
   "outputs": [
    {
     "data": {
      "text/html": [
       "<div>\n",
       "<style scoped>\n",
       "    .dataframe tbody tr th:only-of-type {\n",
       "        vertical-align: middle;\n",
       "    }\n",
       "\n",
       "    .dataframe tbody tr th {\n",
       "        vertical-align: top;\n",
       "    }\n",
       "\n",
       "    .dataframe thead th {\n",
       "        text-align: right;\n",
       "    }\n",
       "</style>\n",
       "<table border=\"1\" class=\"dataframe\">\n",
       "  <thead>\n",
       "    <tr style=\"text-align: right;\">\n",
       "      <th></th>\n",
       "      <th>id_prod</th>\n",
       "      <th>price</th>\n",
       "      <th>categ</th>\n",
       "    </tr>\n",
       "  </thead>\n",
       "  <tbody>\n",
       "  </tbody>\n",
       "</table>\n",
       "</div>"
      ],
      "text/plain": [
       "Empty DataFrame\n",
       "Columns: [id_prod, price, categ]\n",
       "Index: []"
      ]
     },
     "execution_count": 37,
     "metadata": {},
     "output_type": "execute_result"
    }
   ],
   "source": [
    "# On vérifie si ce produit est bien repertorié dans products\n",
    "products[products[\"id_prod\"]==\"0_2245\" ]"
   ]
  },
  {
   "cell_type": "markdown",
   "id": "48eeef6a",
   "metadata": {},
   "source": [
    "\n",
    "<div class=\"alert-info\">\n",
    "    <ul>\n",
    "        <li>221 transactions concernent le produit 0_2245 qui n'est pas repertorié dans products. </li>\n",
    "        <li>L'id_ prod est du format categ_xxxx => le produit 0_2245 est donc un produit de la catégorie 0.</li>\n",
    "    </ul>\n",
    "</div>\n",
    "<br>"
   ]
  },
  {
   "cell_type": "code",
   "execution_count": 38,
   "id": "d6058b63-6cd4-4ab8-b4a4-83379e0d0c89",
   "metadata": {},
   "outputs": [
    {
     "data": {
      "text/html": [
       "<div>\n",
       "<style scoped>\n",
       "    .dataframe tbody tr th:only-of-type {\n",
       "        vertical-align: middle;\n",
       "    }\n",
       "\n",
       "    .dataframe tbody tr th {\n",
       "        vertical-align: top;\n",
       "    }\n",
       "\n",
       "    .dataframe thead th {\n",
       "        text-align: right;\n",
       "    }\n",
       "</style>\n",
       "<table border=\"1\" class=\"dataframe\">\n",
       "  <thead>\n",
       "    <tr style=\"text-align: right;\">\n",
       "      <th></th>\n",
       "      <th>id_prod</th>\n",
       "      <th>date</th>\n",
       "      <th>session_id</th>\n",
       "      <th>client_id</th>\n",
       "      <th>time</th>\n",
       "      <th>periode</th>\n",
       "      <th>annee</th>\n",
       "      <th>sex</th>\n",
       "      <th>birth</th>\n",
       "      <th>age_client</th>\n",
       "      <th>tranche_age</th>\n",
       "      <th>price</th>\n",
       "      <th>categ</th>\n",
       "    </tr>\n",
       "  </thead>\n",
       "  <tbody>\n",
       "    <tr>\n",
       "      <th>2633</th>\n",
       "      <td>0_2245</td>\n",
       "      <td>2022-09-23</td>\n",
       "      <td>s_272266</td>\n",
       "      <td>c_4746</td>\n",
       "      <td>07:22:38.636773</td>\n",
       "      <td>2022-09</td>\n",
       "      <td>2022</td>\n",
       "      <td>m</td>\n",
       "      <td>1940</td>\n",
       "      <td>82</td>\n",
       "      <td>76 ans - plus</td>\n",
       "      <td>10.64</td>\n",
       "      <td>0</td>\n",
       "    </tr>\n",
       "    <tr>\n",
       "      <th>10103</th>\n",
       "      <td>0_2245</td>\n",
       "      <td>2022-07-23</td>\n",
       "      <td>s_242482</td>\n",
       "      <td>c_6713</td>\n",
       "      <td>09:24:14.133889</td>\n",
       "      <td>2022-07</td>\n",
       "      <td>2022</td>\n",
       "      <td>f</td>\n",
       "      <td>1963</td>\n",
       "      <td>59</td>\n",
       "      <td>56 - 65 ans</td>\n",
       "      <td>10.64</td>\n",
       "      <td>0</td>\n",
       "    </tr>\n",
       "    <tr>\n",
       "      <th>11723</th>\n",
       "      <td>0_2245</td>\n",
       "      <td>2022-12-03</td>\n",
       "      <td>s_306338</td>\n",
       "      <td>c_5108</td>\n",
       "      <td>03:26:35.696673</td>\n",
       "      <td>2022-12</td>\n",
       "      <td>2022</td>\n",
       "      <td>m</td>\n",
       "      <td>1978</td>\n",
       "      <td>44</td>\n",
       "      <td>36 - 45 ans</td>\n",
       "      <td>10.64</td>\n",
       "      <td>0</td>\n",
       "    </tr>\n",
       "    <tr>\n",
       "      <th>15670</th>\n",
       "      <td>0_2245</td>\n",
       "      <td>2021-08-16</td>\n",
       "      <td>s_76493</td>\n",
       "      <td>c_1391</td>\n",
       "      <td>11:33:25.481411</td>\n",
       "      <td>2021-08</td>\n",
       "      <td>2021</td>\n",
       "      <td>m</td>\n",
       "      <td>1991</td>\n",
       "      <td>31</td>\n",
       "      <td>26 - 35 ans</td>\n",
       "      <td>10.64</td>\n",
       "      <td>0</td>\n",
       "    </tr>\n",
       "    <tr>\n",
       "      <th>16372</th>\n",
       "      <td>0_2245</td>\n",
       "      <td>2022-07-16</td>\n",
       "      <td>s_239078</td>\n",
       "      <td>c_7954</td>\n",
       "      <td>05:53:01.627491</td>\n",
       "      <td>2022-07</td>\n",
       "      <td>2022</td>\n",
       "      <td>m</td>\n",
       "      <td>1973</td>\n",
       "      <td>49</td>\n",
       "      <td>46 - 55 ans</td>\n",
       "      <td>10.64</td>\n",
       "      <td>0</td>\n",
       "    </tr>\n",
       "  </tbody>\n",
       "</table>\n",
       "</div>"
      ],
      "text/plain": [
       "      id_prod       date session_id client_id             time  periode  \\\n",
       "2633   0_2245 2022-09-23   s_272266    c_4746  07:22:38.636773  2022-09   \n",
       "10103  0_2245 2022-07-23   s_242482    c_6713  09:24:14.133889  2022-07   \n",
       "11723  0_2245 2022-12-03   s_306338    c_5108  03:26:35.696673  2022-12   \n",
       "15670  0_2245 2021-08-16    s_76493    c_1391  11:33:25.481411  2021-08   \n",
       "16372  0_2245 2022-07-16   s_239078    c_7954  05:53:01.627491  2022-07   \n",
       "\n",
       "       annee sex  birth  age_client    tranche_age  price categ  \n",
       "2633    2022   m   1940          82  76 ans - plus  10.64     0  \n",
       "10103   2022   f   1963          59    56 - 65 ans  10.64     0  \n",
       "11723   2022   m   1978          44    36 - 45 ans  10.64     0  \n",
       "15670   2021   m   1991          31    26 - 35 ans  10.64     0  \n",
       "16372   2022   m   1973          49    46 - 55 ans  10.64     0  "
      ]
     },
     "execution_count": 38,
     "metadata": {},
     "output_type": "execute_result"
    }
   ],
   "source": [
    "# On calcule le prix moyen de la catégorie 0\n",
    "categ0_mean = round(df[df[\"categ\"]==0][\"price\"].mean(),2)\n",
    "\n",
    "# On impute les prix du produit 0_2245 par le prix moyen de la catégorie 0\n",
    "df.loc[df[\"id_prod\"]==\"0_2245\", \"price\"] = categ0_mean\n",
    "\n",
    "# On assigne 0 au niveau de la colonne categ des transactions concernant le produit 0_2245.\n",
    "df.loc[df[\"id_prod\"]==\"0_2245\", \"categ\"] = 0\n",
    "\n",
    "# On vérifie les modifications enregistrées.\n",
    "df[df[\"id_prod\"]==\"0_2245\"].head()"
   ]
  },
  {
   "cell_type": "markdown",
   "id": "37f768ee",
   "metadata": {},
   "source": [
    "<h2 style=\"margin: auto; \n",
    "            text-align: center; \n",
    "            font-family:Helvetica, Arial, verdana, sans-serif\"><a name=\"C7\"> Conclusion </a></h2>"
   ]
  },
  {
   "cell_type": "code",
   "execution_count": 39,
   "id": "632fcc06",
   "metadata": {},
   "outputs": [
    {
     "name": "stdout",
     "output_type": "stream",
     "text": [
      "<class 'pandas.core.frame.DataFrame'>\n",
      "Int64Index: 679332 entries, 0 to 679331\n",
      "Data columns (total 13 columns):\n",
      " #   Column       Non-Null Count   Dtype         \n",
      "---  ------       --------------   -----         \n",
      " 0   id_prod      679332 non-null  object        \n",
      " 1   date         679332 non-null  datetime64[ns]\n",
      " 2   session_id   679332 non-null  object        \n",
      " 3   client_id    679332 non-null  object        \n",
      " 4   time         679332 non-null  object        \n",
      " 5   periode      679332 non-null  period[M]     \n",
      " 6   annee        679332 non-null  int64         \n",
      " 7   sex          679332 non-null  object        \n",
      " 8   birth        679332 non-null  int64         \n",
      " 9   age_client   679332 non-null  int64         \n",
      " 10  tranche_age  679332 non-null  category      \n",
      " 11  price        679332 non-null  float64       \n",
      " 12  categ        679332 non-null  category      \n",
      "dtypes: category(2), datetime64[ns](1), float64(1), int64(3), object(5), period[M](1)\n",
      "memory usage: 63.5+ MB\n"
     ]
    }
   ],
   "source": [
    "df.info()"
   ]
  },
  {
   "cell_type": "code",
   "execution_count": 40,
   "id": "869a3912",
   "metadata": {},
   "outputs": [],
   "source": [
    "# On exporte le df final\n",
    "df.to_csv(\"df_final.csv\", encoding='utf-8', index=False)"
   ]
  },
  {
   "cell_type": "markdown",
   "id": "26a713cd",
   "metadata": {},
   "source": [
    "Nous avons décelé plusieurs types d'erreurs, de valeurs aberrantes et atypiques durant le processus de préparation des données. A chaque erreur ou outlier détecté, nous avons apporté une solution adaptée tout en tenant compte de l'objectif du projet. De plus, nous avons rajouté pusieurs variables qui seront utiles pour la suite du projet.\n",
    "\n",
    "\n",
    "Bilan des modifications apportées :\n",
    "- les variables tranche_age, année et période ont été rajoutées au jeu de données.\n",
    "- T_0 qui est un produit test a été écarté de l'analyse (soit 200 transactions concernant les tests)\n",
    "- 0_2245 n'étant pas repertorié dans le fichier products, son prix (NaN) a été remplacé par le prix moyen de la catégorie 0.\n",
    "- 157 outliers ont été détectés sur la varible price.\n",
    "- la colonne contenant la variable date est convertie dans le bon format.\n",
    "\n",
    "Suite au rapprochement des données, le dataframe final comprend 679332 entrées. Celui-ci est exporté sous le nom df_final.csv pour la suite de l'analyse..."
   ]
  }
 ],
 "metadata": {
  "kernelspec": {
   "display_name": "Python 3 (ipykernel)",
   "language": "python",
   "name": "python3"
  },
  "language_info": {
   "codemirror_mode": {
    "name": "ipython",
    "version": 3
   },
   "file_extension": ".py",
   "mimetype": "text/x-python",
   "name": "python",
   "nbconvert_exporter": "python",
   "pygments_lexer": "ipython3",
   "version": "3.9.7"
  },
  "toc-showcode": true
 },
 "nbformat": 4,
 "nbformat_minor": 5
}
